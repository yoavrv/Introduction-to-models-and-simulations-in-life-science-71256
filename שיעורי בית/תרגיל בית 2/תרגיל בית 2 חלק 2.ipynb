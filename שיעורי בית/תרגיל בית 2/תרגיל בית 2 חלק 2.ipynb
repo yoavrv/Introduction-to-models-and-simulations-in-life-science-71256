{
 "cells": [
  {
   "cell_type": "markdown",
   "id": "1025283f-e56c-4862-b302-623c59cffdcb",
   "metadata": {},
   "source": [
    "<h1 style=\"direction: rtl\"> <b> תרגיל בית 2 חלק 2: רקורסיה ומשוואות דיפרנציאליות במודלים של אוכלוסייה </b>\n",
    "</h1>"
   ]
  },
  {
   "cell_type": "markdown",
   "id": "aa3d26b3-9fb4-41dd-836e-d315931e2383",
   "metadata": {},
   "source": [
    "<div dir=\"rtl\">בתירגול 4, פיתחנו פונקציה של \"פותר\" <code>solve_recursion</code> המסוגלת לפתור באופן כללי כל משוואת רקורסיה, ופונקציה נוספת <code>plot_cobweb</code> שלוקחת את הפתרון ומציירת את ה-cobweb plot המתאים."
   ]
  },
  {
   "cell_type": "code",
   "execution_count": 2,
   "id": "aca7ef0c-d244-4ebe-8b7d-7ee1702e177d",
   "metadata": {},
   "outputs": [],
   "source": [
    "import numpy as np\n",
    "import matplotlib.pyplot as plt"
   ]
  },
  {
   "cell_type": "markdown",
   "id": "d853d00a-bd46-442e-b627-33a910f3900d",
   "metadata": {
    "jp-MarkdownHeadingCollapsed": true,
    "tags": []
   },
   "source": [
    "#### The functions ####"
   ]
  },
  {
   "cell_type": "code",
   "execution_count": 2,
   "id": "c9ee4e8e-1dfa-456f-94b4-c063a22c4092",
   "metadata": {},
   "outputs": [],
   "source": [
    "def solve_recursion(f: callable, t_span: (int, int)=(0,1), y0: np.array or float=1)->np.array:\n",
    "    \"\"\"Solve the recurrence y(t+1)=f(t,y(t)) in t_span=(t0,tf) starting at y(t0)=y0. Return solution array y[0:tf-t0+1, ...].\"\"\"\n",
    "    y0 = np.array(y0)\n",
    "    t0, tf = t_span\n",
    "\n",
    "    t = np.arange(t0, tf+1)\n",
    "    y = np.zeros((len(t), *y0.shape))\n",
    "    y[0,...]=y0\n",
    "\n",
    "    for i in range(len(t)-1):\n",
    "        y[i+1,...] = f(t[i,...],y[i,...])\n",
    "    return y"
   ]
  },
  {
   "cell_type": "markdown",
   "id": "1ed1dd2d-f10c-43c6-a45c-47b3663e7126",
   "metadata": {
    "tags": []
   },
   "source": [
    "<div dir=\"rtl\"> הפותר מקבל פונקציה (רגילה עם <code>def</code> או אנונימית <code>lambda t,y:</code>), רשומה (tuple) של הזמן ההתחלתי והסופי <code>(t0,tf)</code> ותנאי התחלה <code>y0</code> ומחזירה את הפתרון של משוואת הרקורסיה: <code>y = [y0, f(t0,y0), f(t0+1,y1), f(t0+2,y2)...)]</code>. ראו דוגמא בסוף המחברת</div> "
   ]
  },
  {
   "cell_type": "markdown",
   "id": "866a8d94-5015-4a14-8bbd-8a8e81436e94",
   "metadata": {},
   "source": [
    "<div dir=\"rtl\"> את פונקציית ה-<code>plot_recursion</code> פיצלנו לארבעה תת פונקציות: "
   ]
  },
  {
   "cell_type": "code",
   "execution_count": 10,
   "id": "10fdc665-a4ba-41a0-a7fc-420192dbd60a",
   "metadata": {},
   "outputs": [],
   "source": [
    "def plot_cobweb(N, f):\n",
    "    \"\"\"Plot a cobweb plot of the solution N to the function f(t,y).\"\"\"\n",
    "\n",
    "    # plot y=x helper line and plot the cobweb\n",
    "    plt.axline( (0,0),(1,1), linestyle='--',color='k') # y=x\n",
    "\n",
    "    x, y = cobweb_line(N)\n",
    "    plt.plot(x,y, **kwargs)\n",
    "\n",
    "    # create equal axis (to taste)\n",
    "    plt.axis('scaled')\n",
    "\n",
    "    clamp_to_1st_quadrant()\n",
    "\n",
    "    # draw the function across the figure\n",
    "    plot_func_across_x(lambda x: f(0,x))\n",
    "\n",
    "    frame_cobweb(labels=r'$N\\left(t\\right)$')"
   ]
  },
  {
   "cell_type": "markdown",
   "id": "f18732d8-d7ad-46e3-b153-291436531b44",
   "metadata": {},
   "source": [
    "<div dir=\"rtl\"> <code>cobweb_line(N)</code> לוקחת את הפתרון (אוכלוסייה בזמן) <code>n</code> ומחזירה את ה-x וה-y של קו ה-cobweb שלו<code>x=[n0,n0,n1...],y=[0,n1,n1,n2...]</code>"
   ]
  },
  {
   "cell_type": "code",
   "execution_count": 4,
   "id": "3a289b96-dec7-4b9e-af7a-c8032ac8fffa",
   "metadata": {},
   "outputs": [],
   "source": [
    "def cobweb_line(N):\n",
    "    \"\"\"\"Extract the cobweb line (N0,0)-(N0,N1)-(N1,N1)- from N.\"\"\"\n",
    "    x = np.zeros(2*len(N)-1)\n",
    "    y = np.zeros(2*len(N)-1)\n",
    "    x[::2] = N\n",
    "    x[1::2] = N[:-1]\n",
    "    y[1::2] = N[1:]\n",
    "    y[2::2] = N[1:]\n",
    "    return x,y"
   ]
  },
  {
   "cell_type": "markdown",
   "id": "ed9aa5da-faca-4cf9-a146-0816984b12bc",
   "metadata": {},
   "source": [
    "<div dir=\"rtl\"> <code>plot_func_across_x(f)</code> מציירת את הגרף לפונקציה <code>f</code> בין גבולות ציר ה-x     (<code>plt.xlim</code>)"
   ]
  },
  {
   "cell_type": "code",
   "execution_count": 6,
   "id": "56e229ac-4597-4aa3-a854-4b86417b9d9e",
   "metadata": {},
   "outputs": [],
   "source": [
    "def plot_func_across_x(f):\n",
    "    \"\"\"Plot the function f(x) across the x axis\"\"\"\n",
    "    x_min, x_max = plt.xlim()\n",
    "    x_func = np.linspace(x_min, x_max)\n",
    "    y_func = f(x_func)\n",
    "    plt.plot(x_func,y_func,'k')\n",
    "    # restore the original limits\n",
    "    plt.xlim(x_min,x_max)"
   ]
  },
  {
   "cell_type": "markdown",
   "id": "7cc0be52-3111-437d-b2b6-7391eb56d509",
   "metadata": {},
   "source": [
    "## <div style=\"direction: rtl\"> <b> שאלה ראשונה: מודלים של אוכלוסייה ברקורסיה </b> </div> ##"
   ]
  },
  {
   "cell_type": "markdown",
   "id": "fc4320ab-2aa1-4c42-8b4c-7ea3583920e4",
   "metadata": {},
   "source": [
    "<div dir=\"rtl\"> ראינו שלושה מודלים בשאלה 2 בחלק הראשון: <ul><li>מודל תטא-לוגיסטי theta-logistic model:</li></ul> </div>"
   ]
  },
  {
   "cell_type": "markdown",
   "id": "5ebd4f2e-77f4-4303-b184-7343f2dd2ea7",
   "metadata": {},
   "source": [
    "$$ N\\left(t+1\\right) = \\lambda N\\left(t\\right)\\left(1-\\left(\\frac{N\\left(t\\right)}{K}\\right)^\\theta\\right) $$"
   ]
  },
  {
   "cell_type": "markdown",
   "id": "8c728c5d-b281-426f-b7f0-0c3328206106",
   "metadata": {},
   "source": [
    "<div dir=\"rtl\"> <ul><li>מודל ריקר Ricker model:</li></ul> </div>"
   ]
  },
  {
   "cell_type": "markdown",
   "id": "92c13bbd-db34-410f-86d7-2e6eaa0a9d69",
   "metadata": {},
   "source": [
    "$$ N\\left(t+1\\right) = \\lambda N\\left(t\\right)e^{-\\alpha N\\left(t\\right)} $$"
   ]
  },
  {
   "cell_type": "markdown",
   "id": "5d71fc8e-3ee7-46c7-b77e-72efe39d4ad1",
   "metadata": {},
   "source": [
    "<div dir=\"rtl\"> <ul><li>מודל בוורטון הולט Beverton-Holt model:</li></ul> </div>"
   ]
  },
  {
   "cell_type": "markdown",
   "id": "e4eec95e-8f89-4642-8314-ea7ea6cf8c90",
   "metadata": {},
   "source": [
    "$$ N\\left(t+1\\right) = \\lambda N\\left(t\\right)\\frac{1}{1+\\alpha N\\left(t\\right)} $$"
   ]
  },
  {
   "cell_type": "markdown",
   "id": "19d7839a-8a86-4fac-b2a6-0f7d4e5611b0",
   "metadata": {},
   "source": [
    "<div dir=\"rtl\"><b>א.</b> פתרו את המודל התטא-לוגיסטי בעזרת הפותר <code>solve_recursion</code> מאוכלוסייה ראשונית של 800 פרטים ל-15 דורות עם הפרמטרים: </div>"
   ]
  },
  {
   "cell_type": "markdown",
   "id": "fdebb7bb-eeb4-4ad0-9759-18dfce0b8b2a",
   "metadata": {},
   "source": [
    "1.  $\\lambda=0.9$, $\\theta=1.2$, $K=2,000$  \n",
    "2.  $\\lambda=1.8$, $\\theta=1.2$, $K=2,000$  \n",
    "3.  $\\lambda=1.8$, $\\theta=1.9$, $K=2,000$  \n",
    "4.  $\\lambda=1.8$, $\\theta=2.8$, $K=2,000$"
   ]
  },
  {
   "cell_type": "markdown",
   "id": "214bec08-352e-46b9-a870-184a81e76702",
   "metadata": {},
   "source": [
    "<div dir=\"rtl\">עבור כל סט פרמטרים, שרטטו את הגרף של גודל האוכלוסייה כפונקציה של הזמן ואת ה-cobweb plot. "
   ]
  },
  {
   "cell_type": "code",
   "execution_count": null,
   "id": "36bb023c-2f3c-47f1-960e-59400508d40e",
   "metadata": {},
   "outputs": [],
   "source": [
    "# your solution here"
   ]
  },
  {
   "cell_type": "markdown",
   "id": "71eafdcf-1875-47fa-8bdf-3b74881aaa4d",
   "metadata": {},
   "source": [
    "<div dir=\"rtl\"><b>ב.</b> פתרו את מודל ריקר בעזרת הפותר <code>solve_recursion</code> מאוכלוסייה ראשונית של 800 פרטים ל-15 דורות, עם פרמטרים "
   ]
  },
  {
   "cell_type": "markdown",
   "id": "0c6522da-54f1-437b-8dec-f9314d54eab0",
   "metadata": {},
   "source": [
    "$$\\alpha=\\frac{1}{2000}$$\n",
    "\n",
    "$$ \\lambda = 0.9, 1.8, 4.8, 8.0$$"
   ]
  },
  {
   "cell_type": "markdown",
   "id": "41f77081-dc98-456b-80bd-fe73b7fcde21",
   "metadata": {},
   "source": [
    "<div dir=\"rtl\"> בתא אחד, ציירו את גודל האוכלוסייה בזמן לכל ארבעת הלמדבאות בגרף אחד, ובתא נוסף ציירו את ה-cobweb plot של האוכלוסייה לכל ארבעת הלמדבאות בגרף אחד  "
   ]
  },
  {
   "cell_type": "markdown",
   "id": "788c43ac-e0b9-4a12-98a5-1eb286b6c27e",
   "metadata": {},
   "source": [
    "<div dir=\"rtl\"><b>ג.</b> פתרו את מודל בוורטון-הולט בעזרת הפותר <code>solve_recursion</code> מאוכלוסייה ראשונית של 800 פרטים ל-15 דורות, עם פרמטרים "
   ]
  },
  {
   "cell_type": "markdown",
   "id": "a84b1a24-3135-4156-8a08-55213c6215b9",
   "metadata": {},
   "source": [
    "$$\\alpha=\\frac{1}{2000}$$\n",
    "\n",
    "$$ \\lambda = 0.9, 1.8, 4.8, 8.0$$"
   ]
  },
  {
   "cell_type": "markdown",
   "id": "1c5731f2-efb4-495e-8065-414502f06044",
   "metadata": {},
   "source": [
    "<div dir=\"rtl\"> עשו סעיף זה בדומה לסעיף הקודם (עם ריקר). מה ההבדל האיכותי בין הפתרונות שמתקבלים עם מודל ריקר לעומת הפתרונות שמתקבלים עם מודל בוורטון-הולט?"
   ]
  },
  {
   "cell_type": "code",
   "execution_count": 12,
   "id": "55cb76bd-2433-4eb7-819e-15d0992485fd",
   "metadata": {},
   "outputs": [],
   "source": [
    "# your code here\n",
    "\n",
    "# may take many cells!"
   ]
  },
  {
   "cell_type": "markdown",
   "id": "ca6af692-0577-4f20-9dee-29b8907b86e0",
   "metadata": {
    "tags": []
   },
   "source": [
    "<h3 dir=\"rtl\"> הדרכה</h3>"
   ]
  },
  {
   "cell_type": "markdown",
   "id": "0df1617e-4805-48c0-937d-ae141efe227a",
   "metadata": {},
   "source": [
    "<div dir=\"rtl\"> השתמשו בפונקציות <code>solve_recursion</code> ו-<code>plot_cobweb</code> במקרים הברורים. כשצריך לצייר כמה cobweb באותו גרף, עדיף לעבוד עם תת-הפונקציות <code>cobweb_line</code>, <code>plot_func_across_x</code>,<code>frame_cobweb</code>, ו-<code>clamp_to_1st_quadrent</code>.<br> הסתכלו בתוך <code>plot-cobweb</code>: האם אפשר להפעיל כל תת פונקציה בלולאה עבור כל למבדא? האם הסדר של <code>clamp_to_1st_quadrant</code> חשוב? מה צריך להכניס ל-<code>frame_cobweb</code>? "
   ]
  },
  {
   "cell_type": "markdown",
   "id": "3502e84c-2d01-4743-8cc5-534ac4c40f87",
   "metadata": {},
   "source": [
    "<div dir=\"rtl\"> כשיש דברים עם שמות דומים למילים שמורות בפייתון, נהוג לשים מקף תחתון _ אחרי השם: </div>"
   ]
  },
  {
   "cell_type": "markdown",
   "id": "9a65b88a-198a-4b9e-9100-981ada205ce4",
   "metadata": {},
   "source": [
    "```python\n",
    "lambdas = [0.9, 1.8, 4.8, 8.0]\n",
    "for lambda_ in lambdas:\n",
    "    # do something with lambda\n",
    "    plt.plot(0,0,label=fr'$\\lambda={lambda_}$')\n",
    "plt.legend()\n",
    "```"
   ]
  },
  {
   "cell_type": "markdown",
   "id": "8759717b-5127-43db-b7f7-8bfbf993c43d",
   "metadata": {
    "jp-MarkdownHeadingCollapsed": true,
    "tags": []
   },
   "source": [
    "####  דוגמאות לשימוש בפונקציות ####"
   ]
  },
  {
   "cell_type": "markdown",
   "id": "3458dcb3-2ce3-4757-9005-0c93319a9de4",
   "metadata": {},
   "source": [
    "<div dir=\"rtl\">דוגמא לשימוש ב-<code>solve_recursion</code>:</div>"
   ]
  },
  {
   "cell_type": "code",
   "execution_count": 3,
   "id": "1a858bb1-33a7-41ca-b4ce-b0b239309576",
   "metadata": {},
   "outputs": [
    {
     "data": {
      "image/png": "[encoded data removed]",
      "text/plain": [
       "<Figure size 432x288 with 1 Axes>"
      ]
     },
     "metadata": {
      "needs_background": "light"
     },
     "output_type": "display_data"
    }
   ],
   "source": [
    "def quadratic_allee_rec(t,n):\n",
    "    \"\"\"A reucrsion equivalent to the quadratic equation with allee effect.\n",
    "    \n",
    "    we have +n, since a differential equation is like a difference equation.\n",
    "    dN/dt -> delta N -> N(t+1)-N(t), so we need to add N to the other side\n",
    "    \"\"\"\n",
    "    r=0.2\n",
    "    a=1/2_000\n",
    "    b=50\n",
    "    return n+n*(r-a*(n-b)**2)\n",
    "\n",
    "# or the same with a lambda function\n",
    "# quadratic_allee_rec = lambda t, n: n+n*(0.2-(1/2_000)*(n-50)**2)\n",
    "initial_conditions = [20, 40, 80]\n",
    "for n0 in initial_conditions:\n",
    "    N = solve_recursion(quadratic_allee_rec, (0,16), n0)\n",
    "    plt.plot(N)\n",
    "plt.show()"
   ]
  },
  {
   "cell_type": "markdown",
   "id": "4f105b9a-4bd4-42fb-9a20-affb34566c70",
   "metadata": {},
   "source": [
    "<div dir=\"rtl\">דוגמא לשימוש ב-<code>cobweb_line</code></div>"
   ]
  },
  {
   "cell_type": "code",
   "execution_count": 5,
   "id": "11808b6e-421f-448b-98bb-21d808f4ac28",
   "metadata": {},
   "outputs": [
    {
     "data": {
      "image/png": "[encoded data removed]",
      "text/plain": [
       "<Figure size 432x288 with 1 Axes>"
      ]
     },
     "metadata": {
      "needs_background": "light"
     },
     "output_type": "display_data"
    }
   ],
   "source": [
    "x,y = cobweb_line([0,1,2,3,4,5])\n",
    "plt.plot(x,y)\n",
    "plt.show()"
   ]
  },
  {
   "cell_type": "markdown",
   "id": "e218a344-029b-413f-b523-afcf65803395",
   "metadata": {},
   "source": [
    "<div dir=\"rtl\"> דוגמא לשימוש ב-<code>plot_func_across_x</code>: נצייר את פונקציית ההתפלגות הנורמלית (שמוגדרת ממינוס אינסוף לאינסוף) על היסטוגרמה קיימת.</div>"
   ]
  },
  {
   "cell_type": "code",
   "execution_count": 7,
   "id": "5409a103-b117-484f-8fb6-769102c0343a",
   "metadata": {},
   "outputs": [
    {
     "data": {
      "image/png": "[encoded data removed]",
      "text/plain": [
       "<Figure size 432x288 with 1 Axes>"
      ]
     },
     "metadata": {
      "needs_background": "light"
     },
     "output_type": "display_data"
    }
   ],
   "source": [
    "# create histogram of 1000 normal-distrubuted values\n",
    "rng = np.random.default_rng(88223434)\n",
    "mu, sigma = 2,1\n",
    "plt.hist(rng.normal(mu,sigma,1000),density=True)\n",
    "\n",
    "# pdf function\n",
    "norm_func = lambda x: np.exp(-0.5*( (x-mu)/sigma )**2)/np.sqrt(2*np.pi*sigma**2)\n",
    "\n",
    "# use our new function to overlay the pdf on the histogram\n",
    "plot_func_across_x(norm_func)\n",
    "plt.show()"
   ]
  },
  {
   "cell_type": "markdown",
   "id": "5295c9ba-7a3d-4dca-b16e-7e0c51fd5fd4",
   "metadata": {},
   "source": [
    "<div dir=\"rtl\">דוגמא לשימוש ב-<code>cobweb_frame</code> ו-<code>clamp_to_1st_quadrant</code>: נצייר מעגל ממורכז ב-0 ונוסיף שלושה תוויות ל-frame</div>"
   ]
  },
  {
   "cell_type": "code",
   "execution_count": 9,
   "id": "59b02946-a9e2-4450-9993-156643906ac9",
   "metadata": {},
   "outputs": [
    {
     "data": {
      "image/png": "[encoded data removed]",
      "text/plain": [
       "<Figure size 432x288 with 1 Axes>"
      ]
     },
     "metadata": {
      "needs_background": "light"
     },
     "output_type": "display_data"
    }
   ],
   "source": [
    "# plot a circle at the origion\n",
    "theta=np.linspace(0,2*np.pi)\n",
    "plt.plot(np.cos(theta),np.sin(theta))\n",
    "\n",
    "# use our function to clamp the quadrant\n",
    "clamp_to_1st_quadrant()\n",
    "\n",
    "# add the cobweb frame\n",
    "frame_cobweb(['1','second','שלישי'])"
   ]
  },
  {
   "cell_type": "markdown",
   "id": "7a227e4e-f22e-450e-b048-f9231275ae67",
   "metadata": {},
   "source": [
    "<div dir=\"rtl\"> דוגמא לשימוש ב-<code>plot_cobweb</code></div>"
   ]
  },
  {
   "cell_type": "code",
   "execution_count": 11,
   "id": "36b89f6a-ab1c-4326-8831-3ebefca8f437",
   "metadata": {},
   "outputs": [
    {
     "data": {
      "image/png": "[encoded data removed]",
      "text/plain": [
       "<Figure size 432x288 with 1 Axes>"
      ]
     },
     "metadata": {
      "needs_background": "light"
     },
     "output_type": "display_data"
    }
   ],
   "source": [
    "N = solve_recursion(quadratic_allee_rec, (0,16), 40)\n",
    "plot_cobweb(N,quadratic_allee_rec)\n",
    "plt.show()"
   ]
  }
 ],
 "metadata": {
  "kernelspec": {
   "display_name": "Python 3 (ipykernel)",
   "language": "python",
   "name": "python3"
  },
  "language_info": {
   "codemirror_mode": {
    "name": "ipython",
    "version": 3
   },
   "file_extension": ".py",
   "mimetype": "text/x-python",
   "name": "python",
   "nbconvert_exporter": "python",
   "pygments_lexer": "ipython3",
   "version": "3.10.8"
  }
 },
 "nbformat": 4,
 "nbformat_minor": 5
}
