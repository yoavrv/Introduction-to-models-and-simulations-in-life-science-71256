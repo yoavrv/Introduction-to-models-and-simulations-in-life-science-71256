{
 "cells": [
  {
   "cell_type": "markdown",
   "id": "40e18370-8e6c-46bd-a895-3f64f696c585",
   "metadata": {},
   "source": [
    "<h1 style=\"direction: rtl\"> <b> תרגיל  חלק 1: דינמיקה של אוכלוסייה ומודלים הסתברותיים\n",
    "</b> </h1>"
   ]
  },
  {
   "cell_type": "code",
   "execution_count": 3,
   "id": "19d61f5e-49c4-454a-b1fd-1d0a8121e792",
   "metadata": {},
   "outputs": [],
   "source": [
    "import numpy as np\n",
    "import matplotlib.pyplot as plt"
   ]
  },
  {
   "cell_type": "markdown",
   "id": "a6d27c23-44a1-45c0-8cff-2d71b017dbcb",
   "metadata": {},
   "source": [
    "<h3 style=\"direction: rtl\"> <b> שאלה 1: סיכוי קיבוע\n",
    "</b> </h3>"
   ]
  },
  {
   "cell_type": "markdown",
   "id": "367f978c-737a-4534-8dc0-a363592f7219",
   "metadata": {},
   "source": [
    "<div style=\"direction: rtl\">בשאלה זאת נבדוק את ההשפעה של יחס האוכלוסייה ההתחלתי על סיכוי הקיבוע\n",
    "</div>"
   ]
  },
  {
   "cell_type": "markdown",
   "id": "56e15a25-d599-48f2-912a-323df3762ec3",
   "metadata": {},
   "source": [
    "<div style=\"direction: rtl\"><b> א.</b> השתמשו במודל מורן בסימולצית סוכנים/אינדיבידואלים (כמו בתירגול 9, הרבה מהקוד הרלוונטי מופיע למטה בשאלה 2). <br> הריצו את המודל בצבר של 500 סימולציות עם אוכלוסייה של 20 פרטים, כש: \n",
    "    <ol> \n",
    "        <li> 5% מהאוכלוסייה ההתחלתית עם אלל-A </li>\n",
    "         <li> 30% מהאוכלוסייה ההתחלתית עם אלל-A </li>\n",
    "         <li> 60% מהאוכלוסייה ההתחלתית עם אלל-A </li>\n",
    "         <li> 95% מהאוכלוסייה ההתחלתית עם אלל-A </li>\n",
    "    </ol> \n",
    "    מה סיכוי הקיבוע ל-A בכל אחד מהמקרים?\n",
    "</div>"
   ]
  },
  {
   "cell_type": "markdown",
   "id": "9eea2fcb-09bf-47c6-83f1-2acafa7d8484",
   "metadata": {},
   "source": [
    "<div style=\"direction: rtl\"> <b> ב.</b> השתמשו בסימולציית רייט-פישר סטטיסטית (כמו בתירגול 9): הריצו את המודל בצבר של 1000 סימולציות עם אוכלוסייה של 100 פרטים עבור כל שבר אוכלוסייה 0%,1%,2%,...100% ושמרו את אחוז הקיבוע ל-A עבור כל שבר התחלתי. סרטטו את הגרף של יחס הקיבוע כתלות ביחס A ההתחלתי (Fixation prob (initial fraction)) והשוו לגרף ליניארי. \n",
    "</div>"
   ]
  },
  {
   "cell_type": "markdown",
   "id": "0985892d-162e-4c8f-9811-d807c1452bde",
   "metadata": {},
   "source": [
    "<div style=\"direction: rtl\"><b>ג. (בונוס)</b> הסתכלו על מודל מורן (שקופית 30 במצגת <a href=\"https://moodle2.cs.huji.ac.il/nu22/pluginfile.php/424169/mod_resource/content/5/71256_prob_models.pdf#page=30\">מודלים סטוכסטיים של אוכלוסייה</a>). <br>הוכיחו מתמטית שאם בזמן הנוכחי סיכוי הקיבוע הסופי הוא זהה לשבר האוכלוסייה באלל   A, אז סיכוי הקיבוע הסופי בזמן שאחרי נשאר אותו דבר:<br> הסיכוי לקיבוע בזמן החדש הוא סיכוי הקיבוע הסופי לאוכלוסייה החדשה כפול הסיכוי להגיע לאוכלוסייה החדשה, בסכום לכל אפשרות לאוכלוסייה חדשה.\n",
    "</div>"
   ]
  },
  {
   "cell_type": "markdown",
   "id": "f4dc8c6e-b2a0-46ec-ad10-f6e1d4ca3fee",
   "metadata": {},
   "source": [
    "$$ p_A = \\frac{i}{N} \\quad p_{\\,fix,i} = \\frac{i}{N} $$\n",
    "\n",
    "$$ p_{\\,fix,new} = \\sum_{j} p_{fix,j} \\times p_{ji}$$"
   ]
  },
  {
   "cell_type": "markdown",
   "id": "2e86c663-a931-4324-a21c-8a36fba7e6f2",
   "metadata": {},
   "source": [
    "<div style=\"direction: rtl\">באופן חופשי, אם סיכוי הקיבוע בזמן הסופי לפי האוכלוסייה הנוכחית הוא $x$, בממוצע בצעד הבא תהיה הסתברות $f$ להגיע לאוכלוסייה גדולה יותר עם סיכוי קיבוע גבוה יותר $y$; הסתברות $g$ לאוכלוסייה קטנה יותר עם סיכוי קיבוע נמוך יותר $z$; והסתברות ($1-f-g$) לאוכלוסייה זהה עם הסתברות קיבוע $x$; בסך הכל פוטנציאל הגידול והקיטון מקזזים אחד את השני וסיכוי הקיבוע לא משתנה.\n",
    "</div>"
   ]
  },
  {
   "cell_type": "markdown",
   "id": "0c137530-6dfb-4d56-8181-5fb0c811174b",
   "metadata": {},
   "source": [
    "$$ x = fy + gz + (1-f-g)x$$\n",
    "\n",
    "$$ \\underbrace{fy + gz}_\\text{קיבוע מגידול וקיטון} = \\underbrace{\\left(f + g\\right)x}_\\text{קיבוע ללא שינוי}$$"
   ]
  },
  {
   "cell_type": "markdown",
   "id": "b1a3d895-d13b-46ee-b4bd-2ee9b90a9d13",
   "metadata": {},
   "source": [
    "<div style=\"direction: rtl\"> בגלל שסיכוי הקיבוע בתייחס לסוף, הוא לא אמור להשתנות בזמן. <br>את סעיף זה אפשר לעשות בנפרד או לצרף תמונה על ידי גרירה לתוך התא (attachment)\n",
    "</div>"
   ]
  },
  {
   "cell_type": "markdown",
   "id": "e2a0cb62-893a-496a-966a-ad06fb39a85d",
   "metadata": {},
   "source": [
    "---"
   ]
  },
  {
   "cell_type": "markdown",
   "id": "7ed254f0-6996-45d4-8a9e-e1220650d686",
   "metadata": {},
   "source": [
    "<h3 style=\"direction: rtl\"> <b> שאלה 2: סימולציה דטרמניסטית מול סימולציה סטוכסטית\n",
    "</b> </h3>"
   ]
  },
  {
   "cell_type": "markdown",
   "id": "732aa0f2-6c0f-4df7-b0de-0243b311d677",
   "metadata": {},
   "source": [
    "<div style=\"direction: rtl\"> בשאלה זאת נראה איך גודל האוכלוסייה משפיע על ההבדל בין סימולציה סטוכסטית ודטרמיניסטית לסלקטציה האפלואידית. <br> נסתכל על הסיטואציה הבאה: אוכלוסייה מתחילה עם שבר קטן של אלל A שיש לו כושר השרדות גבוה (WA גדול) ושבר גדול של אוכלוסייה עם האלל האחר a עם כושר שרידות נמוך (Wa חצי)\n",
    "</div>"
   ]
  },
  {
   "cell_type": "markdown",
   "id": "17590ba4-9f5c-4147-be56-aaee7ece4f03",
   "metadata": {},
   "source": [
    "$$ \n",
    "\\begin{matrix}\n",
    " & p\\left(0\\right)=\\frac{1}{5} &  W_A=1 &  W_a = \\frac{1}{2} W_A =\\frac{1}{2}\n",
    " \\end{matrix}$$"
   ]
  },
  {
   "cell_type": "markdown",
   "id": "7ecad08e-f0e0-43a6-9b1b-88b87077a9d0",
   "metadata": {},
   "source": [
    "<div style=\"direction: rtl\"><b>א.</b> נתחיל בסימולציה דטרמניסטית, לפי המשוואה לסלקציה האפלואידית: \n",
    "</div>"
   ]
  },
  {
   "cell_type": "markdown",
   "id": "7bf71bb0-74b5-4d5c-a45b-987bf0e73c34",
   "metadata": {},
   "source": [
    "$$ p\\left(t+1\\right) = \\frac{W_A p\\left(t\\right)}{W_A p\\left(t\\right)+W_a \\left(1-p\\left(t\\right)\\right)} $$"
   ]
  },
  {
   "cell_type": "markdown",
   "id": "eb556dd4-d12a-4826-a436-b8564a197445",
   "metadata": {},
   "source": [
    "<div style=\"direction: rtl\"> <ol>\n",
    "    <li> פתרו את משוואת הרקורסיה על ידי הפותר שבנינו בשיעורים הקודמים <code>solve_recursion</code> עד זמן 15 (כולל). <br> הדרכה: כתבו פונקציה p_tag(p) שלוקחת שבר p ומחזירה את הביטוי לשבר אחרי ההתאמה (הביטוי של p(t+1)). בשביל להכניס את הפונקציה לפותר שרוצה פונקציה של זמן, אפשר \"לכרוך\" אותה עם למבדא (wrap)<br> lambda t,p: p_tag(p) </li> \n",
    "</ol> \n",
    "</div>"
   ]
  },
  {
   "cell_type": "code",
   "execution_count": 2,
   "id": "ac1dfc24-278c-43c4-8b07-dc11d66cfeab",
   "metadata": {},
   "outputs": [],
   "source": [
    "def solve_recursion(f: callable, t_span: (int, int)=(0,1), y0: np.array or float=1)->np.array:\n",
    "    \"\"\"Solve the recurrence y(t+1)=f(t,y(t)) in t_span=(t0,tf) starting at y(t0)=y0. Return solution array y[0:tf-t0+1, ...].\"\"\"\n",
    "    y0 = np.array(y0)\n",
    "    t0, tf = t_span\n",
    "\n",
    "    t = np.arange(t0, tf+1)\n",
    "    y = np.zeros((len(t), *y0.shape))\n",
    "    y[0,...]=y0\n",
    "\n",
    "    for i in range(len(t)-1):\n",
    "        y[i+1,...] = f(t[i,...],y[i,...])\n",
    "    return y"
   ]
  },
  {
   "cell_type": "markdown",
   "id": "3c6712af-38da-434f-931b-bd187a49f530",
   "metadata": {},
   "source": [
    "<div style=\"direction: rtl\"> <ol start=2>\n",
    "    <li> השתמשו בפתרון האנליטי (שקופית 10 במצגת <a href=\"https://moodle2.cs.huji.ac.il/nu22/pluginfile.php/400010/mod_resource/content/6/71256_natural_selection_models.pdf#page=10\" >מודל האפלואידי ודיפלואידי לברירה טבעית</a>). פתרו את f(t) עד זמן 15 (כולל) ויצרו ממנו חזרה את p(t)  לפי ההגדרה. <br>סרטטו את שני הפתרונות (אנליטי ו<code>solve_recursion</code>) והראו שהם אותו דבר (יתכן אי דיוק נומרי של 16-^10). </li> \n",
    "</ol> \n",
    "</div>"
   ]
  },
  {
   "cell_type": "markdown",
   "id": "fc3d2144-0897-4492-954a-5d12ec1cb440",
   "metadata": {},
   "source": [
    "$$ f = \\frac{p}{q} $$\n",
    "\n",
    "$$ p = \\frac{f}{1+f}$$"
   ]
  },
  {
   "cell_type": "markdown",
   "id": "1af83bcd-f230-49ca-bede-9c656bd7e1d7",
   "metadata": {},
   "source": [
    "<div style=\"direction: rtl\"> <b> ב. </b> נשתמש בסימולציה סטוכסטית של רייט-פישר\n",
    "</div>"
   ]
  },
  {
   "cell_type": "markdown",
   "id": "8f7d74e2-1b60-4086-a358-be16cc5f7abe",
   "metadata": {},
   "source": [
    "<div style=\"direction: rtl\"> <ol>\n",
    "    <li> השתמשו בסימולציה סטטיסטית עם fitness. הריצו צבר של 500 סימולציות באוכלוסייה של 25 פרטים עד זמן 15 . <br> תנאי ההתחלה הם שחמישית מהאוכלוסייה עם אלל A ושההתאמה של a היא חצי מ-A</li>\n",
    "    <li> השתמשו בסימולציה סטטיסטית עם fitness, הריצו צבר של 500 סימולציות באוכלוסייה של 250 פרטים עד זמן 15</li>\n",
    "    <li> השתמשו בסימולציה סטטיסטית עם fitness, הריצו צבר של 500 סימולציות באוכלוסייה של 2500 פרטים עד זמן 15</li>\n",
    "</ol> \n",
    "    ציירו כל אחת מההרצות: 10 מהריצות בשחור מקוקו ':k' עם linewidth=0.2; את הממוצע שבר A של הצבר בצבע רגיל וקו עבה linewidth=3; ואת התוצאה האנליטית הידועה בצבע אחר וגם ב-linewidth=3.\n",
    "    <br> הדרכה: השתמשו בp_tag שיצרתם מקודם והכניסו לסימולציה במקום המתאים (ראו תירגול 9, יכול להיות שבתוך ספוילר),  \n",
    "</div>"
   ]
  },
  {
   "cell_type": "markdown",
   "id": "ab2cd73c-62d4-4d03-98f3-00ec8909e6da",
   "metadata": {},
   "source": [
    "<div style=\"direction: rtl\"> <b> ג. </b> נשתמש בסימולציה סטוכסטית של מורן\n",
    "</div>"
   ]
  },
  {
   "cell_type": "code",
   "execution_count": 61,
   "id": "25419ee2-a5ea-4eeb-abc5-71a730c4f6a2",
   "metadata": {},
   "outputs": [],
   "source": [
    "class HaploidAgent():\n",
    "    \"\"\"Represents a Haploid individual with genetics .gen and no age\"\"\"\n",
    "    __slots__=['gen'] # ignore this line\n",
    "\n",
    "    def __init__(self,genetics: str):\n",
    "        self.gen=genetics\n",
    "\n",
    "    def mitosis(self):\n",
    "        \"\"\"Return two daugther HaploidAgents\"\"\"\n",
    "        return HaploidAgent(self.gen), HaploidAgent(self.gen)\n",
    "\n",
    "    def __repr__(self):\n",
    "        \"\"\"Show initialization HaploidAgent(genetics, age).\"\"\"\n",
    "        gen_label=f'{repr(self.gen)}'\n",
    "        return f'HaploidAgent({gen_label})'\n",
    "\n",
    "rng=np.random.default_rng(1_1_1_1)\n",
    "\n",
    "def fitness(haploid_agent):\n",
    "    raise RuntimeError('please replace this fitness function')\n",
    "\n",
    "# rejection sampling\n",
    "def rejection_sample_pop(population,N):\n",
    "    \"\"\"Take a population of HaploidAgent s and sample according to fitness\"\"\"\n",
    "    MAX_ATTEMPTS = 10\n",
    "    for attempts in range(MAX_ATTEMPTS):\n",
    "        i = rng.integers(N)\n",
    "        if rng.random() < fitness(population[i]):\n",
    "            return i # accept i\n",
    "        else:\n",
    "            pass # reject i\n",
    "\n",
    "    return rng.integers(N) # give up and give random\n",
    "\n",
    "def moran_step(population):\n",
    "    \"\"\"Take a moran step\"\"\"\n",
    "    N = len(population)\n",
    "    i = rejection_sample_pop(population,N) # fitness: replaces a rng.integers(N) call\n",
    "    j = rng.integers(N)\n",
    "    population[i], population[j] = population[i].mitosis()\n",
    "    return i,j"
   ]
  },
  {
   "cell_type": "markdown",
   "id": "1f7fce1c-83a5-41ff-bc5e-3478f6eee3d4",
   "metadata": {},
   "source": [
    "<div style=\"direction: rtl\"> <ol>\n",
    "    <li> השתמשו בסימולצית סוכנים עם fitness. הריצו צבר של 50 סימולציות באוכלוסייה של 25 פרטים עד זמן 375 . <br> תנאי ההתחלה הם שחמישית מהאוכלוסייה עם אלל A ושההתאמה של a היא חצי מ-A</li>\n",
    "    <li> השתמשו בסימולצית סוכנים עם fitness, הריצו צבר של 50 סימולציות באוכלוסייה של 250 פרטים עד זמן 3750</li>\n",
    "\n",
    "</ol> \n",
    "    ציירו כל אחת מההרצות: כל הסימולציות בשחור מקוקו ':k' עם linewidth=0.2, ואת הממוצע של שבר A לכל הצבר בצבע רגיל וקו עבה linewidth=3.\n",
    "    <br> הדרכה: השתמשו בסט הפונקציות שלמעלה (ראו תירגול 9), מלאו את פונקציית fitness בערכים נכונים, והריצו בדומה למה שעשיתם בסעיף הקודם.  \n",
    "</div>"
   ]
  },
  {
   "cell_type": "markdown",
   "id": "ead53d41-00b7-4eb2-b7f6-510c926d1790",
   "metadata": {},
   "source": [
    "<div style=\"direction: rtl\"> <b> ד. </b> מה ההשפעה של גודל האוכלוסייה על הסטוכסטיות של המודלים? האם זה נכון גם לסימולציה במודל מורן? מתי המודל הדטרמיניסטי מדויק? <br><br>\n",
    "    <b> ה. (בונוס)</b> אללים בדרך כלל נוצרים ממוטציה בפרט יחיד. האם הגיוני להשתמש במודל דטרמיניסטי במקרה כזה? מה אנחנו יכולים לפספס? אם אתם לא בטוחים, אפשר לעשות סימולציה סטוכסטית עם שבר מינימלי p=1/N ולהשוות לפתרון הדטרמיניסטי.\n",
    "</div>"
   ]
  },
  {
   "cell_type": "markdown",
   "id": "3f47c20b-ae67-472d-8d0c-de561ebded7e",
   "metadata": {},
   "source": [
    "## TO BE CONTINUED ##"
   ]
  }
 ],
 "metadata": {
  "kernelspec": {
   "display_name": "Python 3 (ipykernel)",
   "language": "python",
   "name": "python3"
  },
  "language_info": {
   "codemirror_mode": {
    "name": "ipython",
    "version": 3
   },
   "file_extension": ".py",
   "mimetype": "text/x-python",
   "name": "python",
   "nbconvert_exporter": "python",
   "pygments_lexer": "ipython3",
   "version": "3.10.8"
  }
 },
 "nbformat": 4,
 "nbformat_minor": 5
}
