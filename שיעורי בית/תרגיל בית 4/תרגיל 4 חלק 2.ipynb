{
 "cells": [
  {
   "cell_type": "markdown",
   "id": "ab686d09-6a34-4fdf-8e8f-864193203595",
   "metadata": {},
   "source": [
    "<h1 style=\"direction: rtl\"> <b> תרגיל 4 חלק 2: פתרון משוואות דיפרנציאליות\n",
    "</b> </h1>"
   ]
  },
  {
   "cell_type": "code",
   "execution_count": 2,
   "id": "9d71e04a-aad2-4c82-b209-95ff741f363a",
   "metadata": {},
   "outputs": [],
   "source": [
    "import numpy as np\n",
    "import matplotlib.pyplot as plt\n",
    "from scipy.integrate import solve_ivp"
   ]
  },
  {
   "cell_type": "code",
   "execution_count": 2,
   "id": "bff8e983-751e-4943-80ff-aa8257bbb967",
   "metadata": {},
   "outputs": [],
   "source": [
    "def solve_recursion(fun: callable, t_span: (int, int)=(0,1), y0: np.array or float=1)->np.array:\n",
    "    \"\"\"Solve the recurrence y(t+1)=fun(t,y(t)) in t_span=(t0,tf) starting at y(t0)=y0. Return solution array y[0:tf-t0+1, ...].\"\"\"\n",
    "    y0 = np.array(y0)\n",
    "    t0, tf = t_span\n",
    "\n",
    "    t = np.arange(t0, tf+1)\n",
    "    y = np.zeros((len(t), *y0.shape))\n",
    "    y[0,...]=y0\n",
    "\n",
    "    for i in range(len(t)-1):\n",
    "        y[i+1,...] = fun(t[i,...],y[i,...])\n",
    "    return y"
   ]
  },
  {
   "cell_type": "markdown",
   "id": "a460fdb4-2415-4406-b3eb-0d35c774ee6b",
   "metadata": {},
   "source": [
    "<h3 style=\"direction: rtl\"> <b> שאלה 3: פתרונות נומרים לסלקציה האפלואידית\n",
    "</b> </h3>"
   ]
  },
  {
   "cell_type": "markdown",
   "id": "f098d2bc-2f62-4f19-b271-e547c8af77ea",
   "metadata": {},
   "source": [
    "<div style=\"direction: rtl\"> נתחיל במשוואה חד מימדית שאנחנו כבר מכירים: סלקציה האפלואידית. <br> נניח שיש לנו אוכלוסייה שחמישית ממנה היא עם אלל A. יחס התאמה\\שרידות הוא $W_A:W_a=2:1$\n",
    "</div>"
   ]
  },
  {
   "cell_type": "markdown",
   "id": "58a30a8a-bc7f-45cd-a80a-1ef5c173d6e0",
   "metadata": {},
   "source": [
    "$$ \n",
    "\\begin{array}\n",
    " & p\\left(0\\right)=\\frac{1}{5} &  W_A=1 &  W_a = \\frac{1}{2} \\end{array} $$"
   ]
  },
  {
   "cell_type": "markdown",
   "id": "93b258c3-b8c0-4392-96ae-75a7f826203d",
   "metadata": {},
   "source": [
    "<div style=\"direction: rtl\"><b>א.</b> המשוואה הרציפה (<a href=\"https://moodle2.cs.huji.ac.il/nu22/pluginfile.php/400010/mod_resource/content/6/71256_natural_selection_models.pdf#page=8\">מצגת מודל האפלואידי</a>) \n",
    "</div>"
   ]
  },
  {
   "cell_type": "markdown",
   "id": "5625c65c-3e87-49b0-82b5-a445ef3212bd",
   "metadata": {},
   "source": [
    "$$ \\frac{dp}{dt} = \\left(r_A-r_a\\right)p\\left(1-p\\right)$$"
   ]
  },
  {
   "cell_type": "markdown",
   "id": "ec484752-8cdb-4057-9eea-20dd8b35dc94",
   "metadata": {},
   "source": [
    "<div style=\"direction: rtl\"> כשקצב הגידול של כל אלל קשור להתאמה\n",
    "</div>"
   ]
  },
  {
   "cell_type": "markdown",
   "id": "fe3e476f-3c2b-4d8d-b4f9-491c2fb7e541",
   "metadata": {},
   "source": [
    "$$\\begin{array}& r_A = \\ln(W_A) & r_a = \\ln(W_a) \\end{array} $$"
   ]
  },
  {
   "cell_type": "markdown",
   "id": "b040329b-1d77-4baf-a302-27426d531eb8",
   "metadata": {},
   "source": [
    "$$ \\frac{dp}{dt} = \\ln(\\frac{W_A}{W_a})p\\left(1-p\\right)=\\ln(2)p\\left(1-p\\right)$$"
   ]
  },
  {
   "cell_type": "markdown",
   "id": "dffe0735-ac5a-45c1-b2cc-ea11f30ca83f",
   "metadata": {},
   "source": [
    "<div style=\"direction: rtl\"> <ul> <li>צרו פונקציה <code>haploid_diff(t,p)</code> שמייצגת את ההמשוואה הדיפרנציאלית. </li></ul>\n",
    "</div>"
   ]
  },
  {
   "cell_type": "markdown",
   "id": "2442dcb2-c832-4d8d-912b-0714e01d0531",
   "metadata": {},
   "source": [
    "<div style=\"direction: rtl\"> <b>ב.</b> פתרו את המשוואה <code>haploid_diff</code> באמצעות <code>scipy.integrate.solve_ivp</code> (<a href=\"https://docs.scipy.org/doc/scipy/reference/generated/scipy.integrate.solve_ivp.html#scipy.integrate.solve_ivp\">ראו את המדריך והדוגמאות בתחתית העמוד</a>) מתנאי ההתחלה עד זמן 15</div>"
   ]
  },
  {
   "cell_type": "markdown",
   "id": "8a4eaeba-3d6b-4c2a-9854-b0884099a452",
   "metadata": {},
   "source": [
    "<div style=\"direction: rtl\"> <b>ג.</b> שרטטו והשוו את הפתרון עם הפתרונות שקיבלתם בשאלה 2 (למשל, הפתרון האנליטי מ-f). האם יש שינוי מהותי? <br> שימו לב שהפותר מחזיר מערך בגודל ($1,n$) ולא מערך חד מימדי, ולכן צריך להפוך אותו (transpose) \n",
    "</div>"
   ]
  },
  {
   "cell_type": "markdown",
   "id": "20f63ccc-f163-4cba-b837-bad99e767a10",
   "metadata": {},
   "source": [
    "---"
   ]
  },
  {
   "cell_type": "markdown",
   "id": "c66d5a27-e3c8-4db1-9819-577f19c463d0",
   "metadata": {},
   "source": [
    "<h3 style=\"direction: rtl\"> <b> שאלה 4: משוואות לוטקה וולטרה\n",
    "</b> </h3>"
   ]
  },
  {
   "cell_type": "markdown",
   "id": "bdaae192-9310-414e-a8c7-f718b610c799",
   "metadata": {},
   "source": [
    "<div style=\"direction: rtl\">  נעבור למשוואה בשני משתנים: משוואות לוטקה וולטרה Lotka-Volterra. <br> בעיקרון, יש לנו שני מינים, $n_1$ ו-$n_2$ שמשפיעים אחד על השני באופן הבא: \n",
    "</div>"
   ]
  },
  {
   "cell_type": "markdown",
   "id": "54dc1c13-dbd5-49fa-95b9-c0c254b98734",
   "metadata": {},
   "source": [
    "$$ \\begin{array}  & \\frac{dn_1}{dt} = r n_1 \\left( 1-\\frac{n_1 + \\alpha_{12}n_2}{K} \\right) \\\\ \\frac{dn_2}{dt} = r n_2 \\left( 1-\\frac{n_2 + \\alpha_{21}n_1}{K} \\right)\\end{array} $$"
   ]
  },
  {
   "cell_type": "markdown",
   "id": "d07cf421-00f0-4a27-a9ed-cd76c9b9610e",
   "metadata": {},
   "source": [
    "$$ \\begin{array} & r=0.5 & K=1000 & \\alpha_{12}=0 & \\alpha_{21}=0.5 \\end{array}$$"
   ]
  },
  {
   "cell_type": "markdown",
   "id": "0ebd9b37-ef15-4e26-82aa-f18a0d690786",
   "metadata": {},
   "source": [
    "<div style=\"direction: rtl\">המצב ההתחלתי הוא \n",
    "</div>"
   ]
  },
  {
   "cell_type": "markdown",
   "id": "dfce42af-8077-4b24-8d4d-f6397a942f29",
   "metadata": {},
   "source": [
    "$$ \\left( \\begin{matrix} n_1\\left(0\\right) \\\\ n_2\\left(0\\right) \\end{matrix} \\right) = \\left( \\begin{matrix} 10 \\\\ 10 \\end{matrix} \\right) $$"
   ]
  },
  {
   "cell_type": "markdown",
   "id": "d379be00-5a8a-44a5-bcac-3c0b10000ae7",
   "metadata": {},
   "source": [
    "<div style=\"direction: rtl\"><b>א.</b>  <ol> <li> כתבו פונקציה <code>lotka_volterra(t,n)</code> שמייצגת את המשוואה הדיפרנציאלית. </li> </ol> \n",
    "</div>"
   ]
  },
  {
   "cell_type": "markdown",
   "id": "4b31f704-5289-4198-8c18-d8132a1c4289",
   "metadata": {},
   "source": [
    "<div style=\"direction: rtl\"> מהם ה-nullcline של המערכת? לכל נגזרת יש nullcline שהוא הקוים בו הנגזרת היא 0.  "
   ]
  },
  {
   "cell_type": "markdown",
   "id": "5146dce5-d8d5-4919-96db-13d44438c4e9",
   "metadata": {},
   "source": [
    "$$ \\frac{dn_1}{dt}=0 \\rightarrow nullcline_{n_1}$$"
   ]
  },
  {
   "cell_type": "markdown",
   "id": "1b0e6859-4dd4-4bd8-aa3e-acba5805cccb",
   "metadata": {},
   "source": [
    "<div style=\"direction: rtl\"> במקרה שלנו, הקווים הם מאוד פשוטים: שני קווים הם על הצירים כאשר </div> "
   ]
  },
  {
   "cell_type": "markdown",
   "id": "248d82fd-d50b-4c0a-b9f1-868aaf244365",
   "metadata": {},
   "source": [
    "$$ n_1=0\\rightarrow \\frac{dn_1}{dt}=0$$\n",
    "\n",
    "$$ n_2=0\\rightarrow \\frac{dn_2}{dt}=0$$"
   ]
  },
  {
   "cell_type": "markdown",
   "id": "57aee6c4-2263-4d60-b72e-47eae791a47b",
   "metadata": {},
   "source": [
    "<div style=\"direction: rtl\"> <ol start=2> <li> כתבו את שני קווי ה-nullcline האחרים: ישנו קו אחד נוסף ל-$n_1$ וקו אחר ל-$n_2$ (אפשר לצרף בקובץ אחר או לצרף תמונה למחברת). שימו לב למה קורה אם $\\alpha=0$! </li></ol>\n",
    "    החישובים וה--nullclines מוזכרים במצגת האחרונה (<a href=\"https://moodle2.cs.huji.ac.il/nu22/pluginfile.php/400007/mod_resource/content/2/71256_competition.pdf#page=11\">לוטקה וולטרה</a>)</div>"
   ]
  },
  {
   "cell_type": "markdown",
   "id": "ffcd48aa-2ec5-4ed7-8e68-d958582e3991",
   "metadata": {},
   "source": [
    "<div style=\"direction: rtl\"><b>ב.</b> פתרו את הפונקציה באופן בדיד: <ol> <li> כדי לעבור ממשוואה דיפרנציאלית למשוואת רקורסיה, נחליף את המשוואה הדיפרנציאלית במשוואת הפרש </li></ol> \n",
    "</div>"
   ]
  },
  {
   "cell_type": "markdown",
   "id": "64cec71a-19d3-4866-9100-58c7798850b7",
   "metadata": {},
   "source": [
    "$$ \\begin{array}  & \\Delta n_1 = r n_1 \\left( 1-\\frac{n_1 + \\alpha_{12}n_2}{K} \\right) \\\\  \\Delta n_2 = r n_2 \\left( 1-\\frac{n_2 + \\alpha_{21}n_1}{K} \\right)\\end{array} $$"
   ]
  },
  {
   "cell_type": "markdown",
   "id": "4c51de3c-2f38-4ae5-b238-54dcca7a413a",
   "metadata": {},
   "source": [
    "<div style=\"direction: rtl\"> שזה בערך נכון אם השינוי בזמן יחסית איטי ($\\Delta n / n\\ll  1 $):<br> עברו מהמשוואה הזאת למשוואת רקורסיה  \n",
    "</div>"
   ]
  },
  {
   "cell_type": "markdown",
   "id": "b5364c21-d610-46ad-969d-8d4051772946",
   "metadata": {},
   "source": [
    "$$ \\begin{array}  & n_1\\left(t+1\\right) = \\ldots \\\\  n_2 \\left(t+1\\right) = \\ldots \\end{array} $$"
   ]
  },
  {
   "cell_type": "markdown",
   "id": "2b914a68-17f8-494d-a7b0-df7333dace3d",
   "metadata": {},
   "source": [
    "<div style=\"direction: rtl\">$\\quad$ וכתבו אותה כפונקציה <code>lotka_volterra_recursion(t,n)</code>. (זה יותר פשוט משזה נשמע!) <ol start=2> <li> פתרו את הפונקציה עם הפותר שלנו <code>solve_recursion</code> ממצב התחלה ששתי האוכלוסייות בגודל 10 ל-50 צעדים ושמרו את גודל האוכלוסייה במשתנה.</li></ol>  </div>"
   ]
  },
  {
   "cell_type": "markdown",
   "id": "0eccd826-b5e6-463c-87ee-d30f9ec7d2bb",
   "metadata": {},
   "source": [
    "<div style=\"direction: rtl\"><b>ג.</b> פתרו את הפונקציה <code>lotka_volterra</code> כמשוואה דיפרנציאלית באמצעות <code>solve_ivp</code>. תנו לו <code>dense_output=True</code> וזמן סופי 50. שמרו את הפתרון במשתנה. \n",
    "</div>"
   ]
  },
  {
   "cell_type": "markdown",
   "id": "0c75e258-9c77-4cc7-805a-328b02a5cad7",
   "metadata": {},
   "source": [
    "<div style=\"direction: rtl\"><b>ד.</b> שרטטו את שני הפתרונות, הבדיד והרציף, והשוו: השתמשו ב-<code>()sol.</code> בשביל הזמן הרציף. האם הפתרונות נבדלים מאוד במקרה הזה?\n",
    "</div>"
   ]
  },
  {
   "cell_type": "markdown",
   "id": "f364768f-db73-4190-a925-f3d31ead0fc4",
   "metadata": {},
   "source": [
    "<div style=\"direction: rtl\"><b>ה.</b> שרטטו את שני הפתרונות במרחב הפאזה:\n",
    "    <ol>\n",
    "        <li> השתמשו ה-plt.streamplot בשביל לשרטט את הזרימה במרחב הפאזה. </li>\n",
    "        <li> שרטטו את ה-nullclines: הקווים עליהם הנגזרות מתאפסות</li>\n",
    "        <li> שרטטו את המסלול של הפתרון הנומרי הבדיד והרציף </li>\n",
    "    </ol>\n",
    "    שימו לב שהפונקציה lotka_volterra לוקח זמן בפרמטר הראשון ומערך בפרמטר השני שמכיל גם את $n_1$ וגם את $n_2$.<br> בשביל ה-nullcline, ניתן להשתמש ב-<code>plt.plot</code> אבל אפשר להשתמש ב-<code>plt.axline(point,slope=)</code> במקום. אפשר לכתוב קו אופקי עם slope=0 וקו אנכי עם slope=np.inf. <br> ל-nullcline נכונים, נקודת השבת צריכה להיות בחיתוך.</div>"
   ]
  },
  {
   "cell_type": "markdown",
   "id": "2dcbc25e-54ba-4832-9ff0-34cd549c8928",
   "metadata": {},
   "source": [
    "<div style=\"direction: rtl\"><b>ו.</b> פתרו את המודל באופן רציף באופן זהה (עם solve_ivp) עבור:\n",
    "</div>"
   ]
  },
  {
   "cell_type": "markdown",
   "id": "b06bd00e-bde4-4a17-a829-ececf92ece7c",
   "metadata": {},
   "source": [
    "$$ \\begin{array} & 1. \\;\\alpha_{12}= 0 & 2.\\; \\alpha_{12}= 0.5  & 3. \\; \\alpha_{12}= 1  & 4. \\;\\alpha_{12}= 2 & 5.\\;\\alpha_{12}=-0.5 \\end{array} $$"
   ]
  },
  {
   "cell_type": "markdown",
   "id": "192ced01-eabf-4304-9542-4858f815d363",
   "metadata": {},
   "source": [
    "<div style=\"direction: rtl\">שרטטו את הפתרונות באותו מרחב הפאזה (ללא ה-streamplot או ה-nullclines). איך האוכלוסייה הסופית של מין 1 מול מין 2 מושפעת מהגדלה של $\\alpha_{12}$? \n",
    "</div>"
   ]
  }
 ],
 "metadata": {
  "kernelspec": {
   "display_name": "Python 3 (ipykernel)",
   "language": "python",
   "name": "python3"
  },
  "language_info": {
   "codemirror_mode": {
    "name": "ipython",
    "version": 3
   },
   "file_extension": ".py",
   "mimetype": "text/x-python",
   "name": "python",
   "nbconvert_exporter": "python",
   "pygments_lexer": "ipython3",
   "version": "3.10.8"
  }
 },
 "nbformat": 4,
 "nbformat_minor": 5
}
