{
 "cells": [
  {
   "cell_type": "markdown",
   "id": "6b4c385c-4800-4bb0-8827-d055016e5c67",
   "metadata": {},
   "source": [
    "# Tutorial 3: Population model & simulation"
   ]
  },
  {
   "cell_type": "markdown",
   "id": "d873c704-733a-4f08-94e1-7b61d38a3157",
   "metadata": {
    "tags": []
   },
   "source": [
    "### Part 1: Numerical Solution to a Recursion Equation"
   ]
  },
  {
   "cell_type": "markdown",
   "id": "f6a81fdd-c519-4903-8cf2-c6e32e2fa924",
   "metadata": {},
   "source": [
    "*Not to be confused with programming <a id=\"recursion_top\">[function recursion](#recursion_bottom)</a>*"
   ]
  },
  {
   "cell_type": "markdown",
   "id": "1081625b-3c42-4618-abf7-a5f75c5c6f82",
   "metadata": {},
   "source": [
    "A simple recursion relation can be solved by hand for any initial condition.  \n",
    "For example:"
   ]
  },
  {
   "cell_type": "markdown",
   "id": "94923a96-1233-4e51-99ba-295e18bfc042",
   "metadata": {},
   "source": [
    "$$ N\\left(t+1\\right) = 2\\times N\\left(t\\right) + 1 $$\n",
    "starting at $N \\left(0\\right)= 5 $"
   ]
  },
  {
   "cell_type": "markdown",
   "id": "c87bd6d9-43ee-458a-b96e-f95102bd36b3",
   "metadata": {
    "tags": []
   },
   "source": [
    "#### solution ####"
   ]
  },
  {
   "attachments": {},
   "cell_type": "markdown",
   "id": "c5ad55cd-660b-4d61-8e6c-228248ddd12e",
   "metadata": {
    "tags": []
   },
   "source": [
    "$$ \\begin{matrix}\n",
    "  N \\left(0\\right)&= 5 \\\\\n",
    "  N\\left(1\\right) &= 2\\times 5 + 1 = 11 \\\\\n",
    "  N\\left(2\\right) &= 2\\times 11 + 1 = 23 \\\\\n",
    "  N\\left(3\\right) &= 2\\times 23 + 1 = 47 \\\\\n",
    "  N\\left(4\\right) &= 2\\times 47 + 1 = 95 \\\\\n",
    "  N\\left(5\\right) &= 2\\times 95 + 1 = 191 \\\\\n",
    "\\end{matrix}\n",
    "$$"
   ]
  },
  {
   "attachments": {},
   "cell_type": "markdown",
   "id": "545849ab-e358-461a-ad82-27a76e0d8da3",
   "metadata": {},
   "source": [
    "This by-hand process can be implemented by code: Start with"
   ]
  },
  {
   "cell_type": "code",
   "execution_count": 1,
   "id": "d33c2ce0-90c1-474c-ab9c-5241efbbc3c2",
   "metadata": {
    "tags": []
   },
   "outputs": [],
   "source": [
    "N=5"
   ]
  },
  {
   "cell_type": "markdown",
   "id": "2476e971-4223-4aeb-bee6-67e9461c432f",
   "metadata": {},
   "source": [
    "Then run the next cell as many times as you like"
   ]
  },
  {
   "cell_type": "code",
   "execution_count": 2,
   "id": "4d1a275a-bea8-484e-8bd8-82d2610dbd03",
   "metadata": {
    "tags": []
   },
   "outputs": [
    {
     "name": "stdout",
     "output_type": "stream",
     "text": [
      "11\n"
     ]
    }
   ],
   "source": [
    "# Ctrl-Enter this cell\n",
    "N = 2*N + 1\n",
    "print(f'{N:_}')"
   ]
  },
  {
   "cell_type": "markdown",
   "id": "20cda88e-9902-41b4-821c-05177a23c706",
   "metadata": {
    "tags": []
   },
   "source": [
    "#### Question 1 ####\n",
    "Solve the recursion equation of an exponential population growth $N\\left(t+1\\right) = 1.2 N\\left(t\\right) + 0.5 $ starting from 432 individuals $N\\left(0\\right) = 432$ to fifty generations using a for loop, then plot it."
   ]
  },
  {
   "cell_type": "markdown",
   "id": "6c751e2d-e3ad-4f17-bbb8-3de3268c44bf",
   "metadata": {
    "jp-MarkdownHeadingCollapsed": true,
    "tags": []
   },
   "source": [
    "#### solution ####"
   ]
  },
  {
   "cell_type": "markdown",
   "id": "326ea647-594a-42ed-a91e-fa2a675bc228",
   "metadata": {},
   "source": [
    "We have a way of generating the numbers $N\\left(t\\right)$, but we need to save them in order to plot them. The naive way is to use a python list and keep appending the new number"
   ]
  },
  {
   "cell_type": "code",
   "execution_count": 3,
   "id": "f77031e2-1b5c-48a1-a634-1df051f92b18",
   "metadata": {
    "tags": []
   },
   "outputs": [
    {
     "name": "stdout",
     "output_type": "stream",
     "text": [
      "[432, 518.9, 623.18, 748.3159999999999, 898.4791999999999, 1078.6750399999999, 1294.9100479999997, 1554.3920575999996, 1865.7704691199995, 2239.4245629439993, 2687.809475532799, 3225.8713706393587, 3871.5456447672304, 4646.354773720676, 5576.125728464812, 6691.850874157774, 8030.721048989329, 9637.365258787195, 11565.338310544634, 13878.90597265356, 16655.18716718427, 19986.724600621124, 23984.56952074535, 28781.98342489442, 34538.8801098733, 41447.15613184796, 49737.08735821755, 59685.004829861056, 71622.50579583326, 85947.50695499992, 103137.5083459999, 123765.51001519988, 148519.11201823986, 178223.43442188783, 213868.62130626538, 256642.84556751844, 307971.9146810221, 369566.79761722655, 443480.65714067186, 532177.2885688063, 638613.2462825675, 766336.395539081, 919604.1746468971, 1103525.5095762764, 1324231.1114915316, 1589077.8337898378, 1906893.9005478052, 2288273.1806573663, 2745928.3167888396, 3295114.4801466074, 3954137.876175929]\n"
     ]
    }
   ],
   "source": [
    "# naive solution\n",
    "n=432\n",
    "N=[n]\n",
    "for i in range(50):\n",
    "    n = 1.2*n+0.5\n",
    "    N.append(n)\n",
    "print(N)"
   ]
  },
  {
   "cell_type": "markdown",
   "id": "7f488205-179c-48d3-bb6c-fe080f5955f4",
   "metadata": {},
   "source": [
    "The proper solution is to initialize a numpy array to represent $N\\left(t\\right)$ where the integer time is the index `N[i]`==$N\\left(i\\right)$.  \n",
    "Changing the size of a list like we just did is bad, because python has to slow down to add a bit more memory each time we add a new number.  \n",
    "We take an array of size of $51$, since we have $N\\left(0\\right),N\\left(1\\right),\\ldots$ are including $N\\left(50\\right)$."
   ]
  },
  {
   "cell_type": "code",
   "execution_count": 4,
   "id": "2a614b31-d246-48b6-9f6a-401a56a657e1",
   "metadata": {},
   "outputs": [],
   "source": [
    "# Slightly smarter numpy solution\n",
    "import numpy as np\n",
    "import matplotlib.pyplot as plt\n",
    "\n",
    "N=np.zeros(51) # initialize array"
   ]
  },
  {
   "cell_type": "markdown",
   "id": "a6a453f8-b5b6-4386-97e5-42a9dc12abcc",
   "metadata": {},
   "source": [
    "Since we save all $N$s in the array, the recursion becomes $N\\left(t+1\\right) = 1.2 N\\left(t\\right) + 0.5 $ $\\longrightarrow$ `N[i+1]= 1.2*N[i]+0.5`"
   ]
  },
  {
   "cell_type": "code",
   "execution_count": 5,
   "id": "c4a5a939-9657-4dc1-ae0e-f4ec73ef0aa0",
   "metadata": {
    "tags": []
   },
   "outputs": [
    {
     "data": {
      "text/plain": [
       "array([4.32000000e+02, 5.18900000e+02, 6.23180000e+02, 7.48316000e+02,\n",
       "       8.98479200e+02, 1.07867504e+03, 1.29491005e+03, 1.55439206e+03,\n",
       "       1.86577047e+03, 2.23942456e+03, 2.68780948e+03, 3.22587137e+03,\n",
       "       3.87154564e+03, 4.64635477e+03, 5.57612573e+03, 6.69185087e+03,\n",
       "       8.03072105e+03, 9.63736526e+03, 1.15653383e+04, 1.38789060e+04,\n",
       "       1.66551872e+04, 1.99867246e+04, 2.39845695e+04, 2.87819834e+04,\n",
       "       3.45388801e+04, 4.14471561e+04, 4.97370874e+04, 5.96850048e+04,\n",
       "       7.16225058e+04, 8.59475070e+04, 1.03137508e+05, 1.23765510e+05,\n",
       "       1.48519112e+05, 1.78223434e+05, 2.13868621e+05, 2.56642846e+05,\n",
       "       3.07971915e+05, 3.69566798e+05, 4.43480657e+05, 5.32177289e+05,\n",
       "       6.38613246e+05, 7.66336396e+05, 9.19604175e+05, 1.10352551e+06,\n",
       "       1.32423111e+06, 1.58907783e+06, 1.90689390e+06, 2.28827318e+06,\n",
       "       2.74592832e+06, 3.29511448e+06, 3.95413788e+06])"
      ]
     },
     "execution_count": 5,
     "metadata": {},
     "output_type": "execute_result"
    }
   ],
   "source": [
    "N[0]=432 # initialize n0\n",
    "for i in range(50):\n",
    "    N[i+1] = 1.2*N[i]+0.5\n",
    "N"
   ]
  },
  {
   "cell_type": "markdown",
   "id": "222f128a-3148-4792-a81f-23c636e1713d",
   "metadata": {},
   "source": [
    "Plotting, we see a classic exponential growth (note the 1e6 in the y axis!):"
   ]
  },
  {
   "cell_type": "code",
   "execution_count": 6,
   "id": "82b4f1c7-31ba-4460-b1cb-0ec131d683b0",
   "metadata": {},
   "outputs": [
    {
     "data": {
      "image/png": "[encoded data removed]",
      "text/plain": [
       "<Figure size 432x288 with 1 Axes>"
      ]
     },
     "metadata": {
      "needs_background": "light"
     },
     "output_type": "display_data"
    }
   ],
   "source": [
    "plt.plot(N)\n",
    "plt.xlabel('time')\n",
    "plt.ylabel('$N\\\\left(t\\\\right)$')\n",
    "plt.title('population')\n",
    "plt.show()"
   ]
  },
  {
   "cell_type": "markdown",
   "id": "dc94f776-6dc7-48ba-bf79-f796d39bad33",
   "metadata": {},
   "source": [
    "#### Question 2 ####"
   ]
  },
  {
   "cell_type": "markdown",
   "id": "2df220d0-ea66-4620-9d7c-f38622919ad5",
   "metadata": {},
   "source": [
    "A general recursion equation is some method to find the next value of $Y\\left(t+1\\right)$ from the current $Y\\left(t\\right)$  \n",
    "\n",
    "$$ Y\\left(t+1\\right) = F\\left\\lbrack\\, t,Y\\left(t\\right)\\, \\right] $$"
   ]
  },
  {
   "cell_type": "markdown",
   "id": "2c707e31-f858-403d-8c60-c9dea3feb491",
   "metadata": {},
   "source": [
    "2. make a python function that numerically solves a general recursion equation:  \n",
    "    ```python\n",
    "    def solve_recursion(f: callable, t_final: int, y0: float) -> np.array:\n",
    "        \"\"\"Solve a recursion equation numerically.\n",
    "        \n",
    "        Take a function f(y) of the recurrence, a stop time t_final and an initial value y0.\n",
    "        Return the solution array y[0:t_final+1].\n",
    "        \"\"\"\n",
    "    ```\n",
    "    Use this function to solve the logistic equation\n",
    "    $$ N\\left(t+1\\right) = N\\left(t\\right) + r N\\left(t\\right)\\left(1-\\frac{N\\left(t\\right)}{k}\\right) $$\n",
    "    with $r=0.2,k=400,N(0)=40$ from $t=0$ to $t=50 $ (not including 50 as per the function spec), and plot it"
   ]
  },
  {
   "cell_type": "markdown",
   "id": "2223f955-dd3a-49d7-8b42-07d7cfc705c7",
   "metadata": {
    "tags": []
   },
   "source": [
    "#### solution ####"
   ]
  },
  {
   "cell_type": "markdown",
   "id": "04019710-9f88-4425-8b69-003d0bd3ee5d",
   "metadata": {},
   "source": [
    "We want to create the function, so we copy the function definition: This contains the name of the function, and the names of its arguments, `f`, `t_final`, and `y0`.  \n",
    "\n",
    "> Besides that, this definition includes a lot of nonfunctional comment: It has a *docstring* `\"\"\"...\"\"\"`, which tells us what the function does and how to use it when we use `help(solve_recursion)` or `solve_recursion?` and type hints `: callable`,`:float`,`-> np.array`, which are hints as to what is the expected type of the arguments passed to the function:  \n",
    "> * `f` is a *callable*, which is anything in python which has `f()` behavior like a function `def f():`, a lambda function `f = lambda x: `, and objects with `__call__` method.  \n",
    "> * `t_final` is expected to be an integer, 0,1,2000,etc.  \n",
    "> * `y0` is expected to be a float, so it's some number.  \n",
    "> * The final type hint is `-> np.array`, the arrow signifying that the function returns a numpy array as its output.  \n",
    "\n",
    "While all of these are essentially comments which don't really do anything, they give us an in-depth of what the function is suppose to do."
   ]
  },
  {
   "cell_type": "code",
   "execution_count": 7,
   "id": "703d51a6-ad78-4378-9111-36f1cd1549ab",
   "metadata": {},
   "outputs": [],
   "source": [
    "def solve_recursion(f: callable, t_final: int, y0: float) -> np.array:\n",
    "    \"\"\"Solve a recursion equation numerically.\n",
    "    \n",
    "    Take a function f(y) of the recurrence, a stop time t_final and an initial value y0.\n",
    "    Return the solution array y[0:t_final+1].\n",
    "    \"\"\""
   ]
  },
  {
   "cell_type": "markdown",
   "id": "1f2416c1-35b6-49bc-8b5a-4d089021133a",
   "metadata": {},
   "source": [
    "We are asked to make this function solve some recursion equation. Since we already did something similar, we copy that previous code in the function:"
   ]
  },
  {
   "cell_type": "markdown",
   "id": "f53bb197-ac9a-4abc-90e7-d4fa5b6e8080",
   "metadata": {},
   "source": [
    "```python\n",
    "def solve_recursion(f: callable, t_final: int, y0: float) -> np.array:\n",
    "    \"\"\"Solve a recursion equation numerically.\n",
    "    \n",
    "    Take a function f(y) of the recurrence, a stop time t_final and an initial value y0.\n",
    "    Return the solution array y[0:t_final+1].\n",
    "    \"\"\"\n",
    "    N=np.zeros(51) # initialize array\n",
    "\n",
    "    N[0]=432 # initialize n0\n",
    "    for i in range(50):\n",
    "        N[i+1] = 1.2*N[i]+0.5\n",
    "    N\n",
    "```"
   ]
  },
  {
   "cell_type": "markdown",
   "id": "cef19e99-db30-4acc-a59d-d36e7d66ad4e",
   "metadata": {},
   "source": [
    "This is not a working piece of code, so we need tweak it: We are wrapping our code in a function which provides `f`,`t_final`,and `y0` which will be available when it is called and this strip of code is executed:  \n",
    "1. We have a hardcoded final time of `50`, so we need to use the provided `t_final` instead.  \n",
    "2. We have a hardcoded initial value `432`, so we need to use the provided `y0` instead.  \n",
    "3. The function seem to use `y` for the variable, so we rename `N` to `y`.  \n",
    "4. We need to get the solution out, so we need to `return y` at the end.  "
   ]
  },
  {
   "cell_type": "markdown",
   "id": "a7bf611b-e93b-4550-bd13-d555cdfb9ad9",
   "metadata": {},
   "source": [
    "```python\n",
    "def solve_recursion(f: callable, t_final: int, y0: float) -> np.array:\n",
    "    \"\"\"Solve a recursion equation numerically.\n",
    "    \n",
    "    Take a function f(y) of the recurrence, a stop time t_final and an initial value y0.\n",
    "    Return the solution array y[0:t_final+1].\n",
    "    \"\"\"\n",
    "    y=np.zeros(t_final+1) # initialize array\n",
    "\n",
    "    y[0]=y0\n",
    "    for i in range(t_final):\n",
    "        y[i+1] = 1.2*y[i]+0.5\n",
    "    return y\n",
    "    # almost there!\n",
    "```"
   ]
  },
  {
   "cell_type": "markdown",
   "id": "42958f05-40ae-4166-a5b4-921890750052",
   "metadata": {},
   "source": [
    "Finally we have the core of the recursion equation: we hardcoded the equation `y[i+1]=1.2*y[i]+0.5` to get from the solution at time `i` to the solution at time `i+1`. Instead, we are given a function `f` which is passed from the `solve_recursion` caller, and use that instead, `y[i+1]=f(y[i])`"
   ]
  },
  {
   "cell_type": "code",
   "execution_count": 8,
   "id": "9994c330-4e8f-42b5-a7b7-2a388ecc169a",
   "metadata": {},
   "outputs": [],
   "source": [
    "def solve_recursion(f: callable, t_final: int, y0: float) -> np.array:\n",
    "    \"\"\"Solve a recursion equation numerically.\n",
    "    \n",
    "    Take a function f(y) of the recurrence, a stop time t_final and an initial value y0.\n",
    "    Return the solution array y[0:t_final+1].\n",
    "    \"\"\"\n",
    "    y=np.zeros(t_final+1) # initialize array\n",
    "\n",
    "    y[0]=y0 # initialize n0\n",
    "    for i in range(t_final):\n",
    "        y[i+1] = f(y[i])\n",
    "    return y"
   ]
  },
  {
   "cell_type": "markdown",
   "id": "8d0cc73c-2bfe-4364-8218-bff2e89eaec0",
   "metadata": {},
   "source": [
    "Now we apply this function to solve the logistics equation with $r=0.2$, $k=400,N(0)=40$, $ t_{final}=50$.  "
   ]
  },
  {
   "cell_type": "code",
   "execution_count": 9,
   "id": "908bc620-95e0-4300-900f-007528be7b0d",
   "metadata": {},
   "outputs": [],
   "source": [
    "f = lambda x: x+0.2*x*(1-x/400) # logistic recursion N(t+1)=f(N) with r and k\n",
    "y = solve_recursion(f, t_final=50, y0=40)"
   ]
  },
  {
   "cell_type": "markdown",
   "id": "147965b9-8b5e-457f-881b-6a3d3cc661a0",
   "metadata": {},
   "source": [
    "This kind of function passing is a classic use of lambda functions: this is often shortend to one unreadble line\n",
    "```python\n",
    "y = solve_recursion(lambda x: x+0.2*x*(1-x/400), t_final=50, y0=40)\n",
    "```"
   ]
  },
  {
   "cell_type": "markdown",
   "id": "5df6ab65-710f-45ef-9dc9-0a6751f9ee75",
   "metadata": {},
   "source": [
    "We got the solution y, let's plot it"
   ]
  },
  {
   "cell_type": "code",
   "execution_count": 10,
   "id": "4c5f386c-cfc9-47f6-8e60-75c406a0a1c4",
   "metadata": {},
   "outputs": [
    {
     "data": {
      "image/png": "[encoded data removed]",
      "text/plain": [
       "<Figure size 432x288 with 1 Axes>"
      ]
     },
     "metadata": {
      "needs_background": "light"
     },
     "output_type": "display_data"
    }
   ],
   "source": [
    "plt.plot(y)\n",
    "plt.xlabel('$t$')\n",
    "plt.ylabel('$N\\\\left(t\\\\right)$')\n",
    "plt.title('Solution of the logistic equation for $N\\\\left(0\\\\right)=40$')\n",
    "plt.show()"
   ]
  },
  {
   "cell_type": "markdown",
   "id": "124b1b75-e9dd-48d4-9d27-83e9518129c0",
   "metadata": {
    "tags": []
   },
   "source": [
    "### Problem 3.2: ###\n",
    "In the basic two-step model for population growth, each time step has a birth phase: \n",
    "$$ N^\\prime\\left(t\\right) = \\left(1+b\\right)N\\left(t\\right) $$\n",
    "followed by a death phase\n",
    "$$ N^{\\prime\\prime}\\left(t\\right) = \\left(1+d\\right)N^\\prime \\left(t\\right) $$\n",
    "\n",
    "$$ N\\left(t+1\\right) = \\left(1+d\\right)\\left(1+b\\right)N\\left(t\\right) = R\\left(N\\left(t\\right)\\right)\\;N\\left(t\\right)$$  \n",
    "\n",
    "In the logistic model, we assumed that the number of surviving offspring\n",
    "per parent, $R$, declines linearly with population size $N$.  \n",
    "Show that growth is still\n",
    "described by equation (3.5a) \n",
    "$$ N\\left(t+1\\right) = N\\left(t\\right) + r N\\left(t\\right)\\left(1-\\frac{N\\left( t\\right)}{k}\\right)$$ \n",
    "if we assume instead that   \n",
    "1. only the birth rate $b$ depends linearly on $N$ \n",
    "2. only the death rate $d$ depends linearly on $N$. \n",
    "3. Show, however, that if both $b$ and $d$ depend linearly on $N$, then $R\\left(N\\right)$ is not a linear function\n",
    "   of $N$. Recall the definition $R = \\left(1 -d\\right)\\left(1 + b\\right)$ and assume that $R\\left(0\\right) = 1 + r$ and $R\\left(k\\right) = 1$.\n"
   ]
  },
  {
   "cell_type": "markdown",
   "id": "241dd451-853a-4071-aa3f-58b14fe79810",
   "metadata": {
    "tags": []
   },
   "source": [
    "#### solution ####"
   ]
  },
  {
   "cell_type": "markdown",
   "id": "83fec74e-8291-4c84-a831-271f17a3d681",
   "metadata": {},
   "source": [
    "We are asked about linearity in terms of $N$, so it makes sense to break $R\\left(N\\right)$ in powers of $N$\n",
    "$$ R\\left(N\\right) = 1 + r -\\frac{r}{k}N $$"
   ]
  },
  {
   "cell_type": "markdown",
   "id": "9d489f3c-24c9-42d2-9cb8-8e8876d8f922",
   "metadata": {},
   "source": [
    "Which has a constant $1+r$ part and a linear $-rN/k$ part."
   ]
  },
  {
   "cell_type": "markdown",
   "id": "19b93f77-3511-4bcd-9f78-0f478f09921e",
   "metadata": {},
   "source": [
    "1. if only the birth rate is linearly dependent:  \n",
    "    $$ b=b_0 - b_1 N$$  \n",
    "    $-$ since we expect birth to lower in a crowded environment.  \n",
    "    Applying to $R$\n",
    "    $$ R\\left(N\\right) = \\left(1-d\\right)\\left(1+b_0 - b_1 N\\right) = 1 + \\underbrace{b_0 -d - d b_0}_{r} - \\underbrace{\\left(1-d\\right)b_1}_{r/k} N$$"
   ]
  },
  {
   "cell_type": "markdown",
   "id": "ca4e39dd-0ea8-4f8c-876b-2d9681a8d5cb",
   "metadata": {},
   "source": [
    "2. if only the death rate is linearly dependent:  \n",
    "    $$ d=d_0 + d_1 N$$  \n",
    "    $+$ since we expect death to increase in an overcrowded environment.  \n",
    "    Applying to $R$\n",
    "    $$ R\\left(N\\right) = \\left(1-d_0 - d_1 N\\right)\\left(1+b\\right) = 1 + \\underbrace{-d_0 +b - d_0 b}_{r} - \\underbrace{\\left(1+b\\right)d_1}_{r/k} N$$"
   ]
  },
  {
   "cell_type": "markdown",
   "id": "230a9100-8f48-4b7f-bf4a-bd13fa4f5ce8",
   "metadata": {},
   "source": [
    "3. if both a linearly dependent:\n",
    "$$ b=b_0-b_1N \\quad d=d_0+d_1N $$\n",
    "   Then we get a \"cross\" term which is quadratic\n",
    "   $$ R\\left(N\\right) = \\left(1-d_0 - d_1 N\\right)\\left(1+b_0 - b_1 N\\right) = 1 + \\underbrace{b_0-d_0 - d_0 b_0}_{r} - \\underbrace{\\left(b_1+d_1+b_1 d_0 - d_1 b_0\\right)}_{r/k} \\;N + \\underbrace{b_1d_1}_{?} \\; N^2$$\n",
    "   This essentially \"corrects\" for how the decreased birth or increased death \"free up\" more resources for the next stage, with lower deathrate or increased birthrate."
   ]
  },
  {
   "cell_type": "markdown",
   "id": "b215afc9-7c78-455e-b0b8-ac18d28e0758",
   "metadata": {
    "tags": []
   },
   "source": [
    "## cobweb plots ##"
   ]
  },
  {
   "cell_type": "markdown",
   "id": "be0f7731-94bf-43a0-ab62-dd52f763e66a",
   "metadata": {},
   "source": [
    "We haven't had the time"
   ]
  },
  {
   "cell_type": "markdown",
   "id": "31af70e2-42e5-42a7-946a-58064238b55b",
   "metadata": {},
   "source": [
    "One way to visualize the recurrence relation is as a plot $N\\left(t+1\\right) = F\\left\\lbrack N\\left(t\\right)\\right]$ like a regular function $y=f\\left(x\\right)$. In every time, our solution is on this line, in the sense that $\\left\\lbrace N\\left(t\\right), N\\left(t+1\\right) \\right\\rbrace$ is trace on it  "
   ]
  },
  {
   "cell_type": "code",
   "execution_count": 11,
   "id": "7cc62729-af5e-4bdf-aff1-6f555dabe73d",
   "metadata": {
    "jupyter": {
     "source_hidden": true
    },
    "tags": []
   },
   "outputs": [],
   "source": [
    "def cobweb_frame(xymin, xymax, axe=None, var_name='N', show=True):\n",
    "    \"\"\"Frame a cobweb plot: produce n(t) n(t+1) labels, equal aspect, and set axe limits to a,b.\"\"\"\n",
    "    if axe is None:\n",
    "        axe = plt.gca()\n",
    "    a, b = xymin, xymax\n",
    "    axe.set_xlabel(fr'${var_name}\\left(t\\right)$')\n",
    "    axe.set_ylabel(fr'${var_name}\\left(t+1\\right)$')\n",
    "    axe.set_aspect('equal')\n",
    "    axe.set_xlim(a,b)\n",
    "    axe.set_ylim(a,b)\n",
    "    if show:\n",
    "        plt.legend()\n",
    "        plt.show()\n",
    "    return axe\n",
    "\n",
    "def get_padded_limits(x, factor=1.5):\n",
    "    a, b = np.min(x), np.max(x)\n",
    "    p, q = (a+b)/2, (b-a)/2\n",
    "    a2, b2 = p-factor*q, p+factor*q\n",
    "    a2 = max(0, a2) if a>=0 else a2\n",
    "    b2 = min(0, b2) if b<=0 else b2\n",
    "    return a2, b2\n",
    "\n",
    "def cobweb_plotter(recurse_func: callable, n: np.ndarray, i=-1, axe=None, show=True, ab=None):\n",
    "    i=min(i,len(n))\n",
    "    if axe is None:\n",
    "        axe = plt.gca()\n",
    "    if i==0:\n",
    "        axe.plot(0,n[0],'*',color='C0', label=r'$N\\left(0\\right)$')\n",
    "    else:\n",
    "        axe.plot([n[0],n[0]],[0,n[1]], linewidth=2, color='C0',label=r'$N\\left(t\\right)$')\n",
    "    if i>1:\n",
    "        axe.stairs(n[1:i//2+1],n[:i//2+1],baseline=None, linewidth=2, color='C0')\n",
    "        if i%2 == 1:\n",
    "            axe.plot([n[i//2],n[i//2]],[n[i//2],n[i//2+1]], linewidth=2, color='C0')\n",
    "    # get a nice range to plot the recursion function\n",
    "    a, b = get_padded_limits(n[:max(i,5)])\n",
    "    if ab is not None:\n",
    "        a, b = min(*ab,a), max(*ab,b)\n",
    "    n_range = np.linspace(a, b, 200)\n",
    "    axe.plot(n_range, recurse_func(n_range), color=(0.1,0.1,0.1),linestyle='-', label=r'$f\\left(N\\right)$')\n",
    "    axe.axline( (a,a), (b,b), color=(0.1,0.1,0.1), linestyle='--', label='y=x')\n",
    "    return cobweb_frame(a, b, axe, show=show)\n"
   ]
  },
  {
   "cell_type": "code",
   "execution_count": 12,
   "id": "72c66e9a-d93d-4f98-bb03-09a41b4d76f5",
   "metadata": {},
   "outputs": [
    {
     "data": {
      "image/png": "[encoded data removed]",
      "text/plain": [
       "<Figure size 432x288 with 1 Axes>"
      ]
     },
     "metadata": {
      "needs_background": "light"
     },
     "output_type": "display_data"
    }
   ],
   "source": [
    "f = lambda x: x+0.2*x*(1-x/400) # logistic recursion N(t+1)=f(N) with r=0.2 and k=400\n",
    "y = solve_recursion(f, t_final=50, y0=40)\n",
    "N_range = np.linspace(0,500)\n",
    "plt.plot(N_range, f(N_range))\n",
    "plt.plot(y[:10], y[1:11],'.', label='time 0 to 9')\n",
    "plt.plot(y[10:20], y[11:21],'.', label='time 10 to 19')\n",
    "plt.plot(y[20:30], y[21:31],'.', label='time 20 to 29')\n",
    "plt.plot(y[30:-1], y[31:],'.', label='time 30 to 50')\n",
    "cobweb_frame(0,500);\n",
    "# make axis and show (hidden above)"
   ]
  },
  {
   "cell_type": "markdown",
   "id": "5095b88a-731d-4786-ae35-b1bc9018f0a3",
   "metadata": {},
   "source": [
    "Using colors, we can track the population along the recurrence function. A cobweb plot tracks this progress more efficiently, by essentially spliting the process into \"stairs\":  \n",
    "At time $t$, start at point $\\left\\lbrace N\\left(t\\right),N\\left(t\\right) \\right\\rbrace$  \n",
    "1. the next value is $N\\left(t+1\\right) = f\\left(N\\left(t\\right)\\right)$, so we draw a line up (or down) to $\\left\\lbrace N\\left(t\\right),f\\left(N\\left(t\\right)\\right) \\right\\rbrace$\n",
    "2. we move to the next time $t+1$, so we go to $\\left\\lbrace N\\left(t+1\\right),N\\left(t+1\\right) \\right\\rbrace$, which is the same as $\\left\\lbrace f\\left(N\\left(t\\right)\\right),f\\left(N\\left(t\\right)\\right) \\right\\rbrace$ to the side."
   ]
  },
  {
   "cell_type": "markdown",
   "id": "d7eadc5e-cecf-44de-be91-88eb5a3f76dc",
   "metadata": {},
   "source": [
    "This essentially has the line \"bounce\" between the graph of $y=x$ and the function $y=f\\left(x\\right)$"
   ]
  },
  {
   "cell_type": "code",
   "execution_count": 13,
   "id": "d323461c-9fbd-4e16-b59c-6742cfd0726d",
   "metadata": {},
   "outputs": [],
   "source": [
    "i=0"
   ]
  },
  {
   "cell_type": "code",
   "execution_count": 14,
   "id": "3a59eff9-1390-4b1f-9589-3cfa2e214b82",
   "metadata": {},
   "outputs": [
    {
     "data": {
      "image/png": "[encoded data removed]",
      "text/plain": [
       "<Figure size 432x288 with 1 Axes>"
      ]
     },
     "metadata": {
      "needs_background": "light"
     },
     "output_type": "display_data"
    }
   ],
   "source": [
    "# ctrl-Enter for more points\n",
    "cobweb_plotter(f,y,i)\n",
    "i += 1"
   ]
  },
  {
   "cell_type": "markdown",
   "id": "9790870c-6afb-4190-8abd-d66d304d379e",
   "metadata": {},
   "source": [
    "### Problem 3.4: The Ricker model ###"
   ]
  },
  {
   "cell_type": "markdown",
   "id": "41ae9b9e-9926-4801-93c6-229566fd35f0",
   "metadata": {},
   "source": [
    "Many alternatives to the logistic equation have been described, each of which incorporates different assumptions about how density affects the per-capita\n",
    "growth term $R\\left(N\\right)$.  \n",
    "1. Write the recursion and difference equations for n under the assumption that $R\\left(N\\right)$ decreases exponentially from $1 + r$ as the population size \n",
    "   increases, so that $R\\left(N\\right)$ can be written as $\\left(1 + r\\right) e^{-\\alpha N\\left(t\\right)}$.\n",
    "2. According to the recursion equation that you derive, is it possible for $N\\left(t + 1\\right)$ to be negative if $N\\left(t\\right)$ is positive (justify your answer)?  \n",
    "\n",
    "This model is known as the Ricker model"
   ]
  },
  {
   "attachments": {
    "43ad7d20-8140-45e8-9c19-bae7e520daf5.png": {
     "image/png": "[encoded data removed]"
    }
   },
   "cell_type": "markdown",
   "id": "972c0c37-f7ac-4b3a-822b-80f0758725c9",
   "metadata": {},
   "source": [
    "Guidence:  \n",
    "Add a new markdown text cell (<kbd> esc</kbd> then <kbd>b</kbd> then <kbd>m</kbd> then <kbd>Enter</kbd>)  \n",
    "Markdown cells support equation via $\\LaTeX$, for example  $ \\alpha + \\frac{1}{\\beta} $  \n",
    "You can copy paste from desmos and sandwhich between  two dollars \\\\$ $ [like from here](https://www.desmos.com/calculator/aecaghpwsx)  \n",
    "or even write in pen and copy+paste the picture ![image.png](attachment:43ad7d20-8140-45e8-9c19-bae7e520daf5.png)"
   ]
  },
  {
   "cell_type": "markdown",
   "id": "dcf0f49c-c1e8-468a-8d3d-84e0bd9f648b",
   "metadata": {
    "tags": []
   },
   "source": [
    "#### Solution ####"
   ]
  },
  {
   "cell_type": "markdown",
   "id": "7fcf54db-2dbe-48a0-ac25-2017e7100730",
   "metadata": {},
   "source": [
    "1. We just substitute $R$ into the equation $N\\left(t+1\\right) = R\\left(N\\right) N$   \n",
    "   $$ N\\left(t+1\\right) =  \\left(1+r\\right)e^{-\\alpha N\\left(t\\right)}N\\left(t\\right) $$  \n",
    "   \n",
    "   Note how, when $\\alpha N$ is small:\n",
    "   $$ N\\left(t+1\\right) \\approx \\left(1+r\\right)\\left(1-\\alpha N\\left(t\\right)\\right)N\\left(t\\right) $$  \n",
    "   $$ N\\left(t+1\\right) \\approx N\\left(t\\right) + r\\left(1-\\frac{\\alpha\\left(1+r\\right)}{r} N\\left(t\\right)\\right)N\\left(t\\right) $$  \n",
    "   which is similar to the logistic equation.  "
   ]
  },
  {
   "cell_type": "markdown",
   "id": "ccdf5e63-25f1-4b5e-8af3-dd665db331cb",
   "metadata": {},
   "source": [
    "2. $N\\left(t+1\\right)$ cannot be negative given a positive $N\\left(t\\right)$, since:  \n",
    "   $$ N\\left(t+1\\right) = \\underbrace{1+r}_{\\text{positive}} \\times \\underbrace{e^{-\\alpha N\\left(t\\right)}}_{\\text{positive}} \\times \\underbrace{N\\left(t\\right)}_{\\text{positive}}$$  \n",
    "   So as long as $N\\left(0\\right)>0$, all future values will be positive.  \n",
    "   This does not mean the population always grows: the *difference* can still be negative, \n",
    "   $$ N\\left(t+1 \\right) - N\\left(t\\right) = \\Delta N= \\left\\lbrack \\left(1+r\\right)e^{-\\alpha N\\left(t\\right)}-1\\right\\rbrack \\times N\\left(t\\right)$$  \n",
    "   which, when $\\alpha N \\gg 1$ is negative $-1$  \n",
    "   This gives us a testable prediction: for populations far above the carrying capacity, all populations should decline in a fixed rate!"
   ]
  },
  {
   "cell_type": "markdown",
   "id": "ee277a0a-ae85-430f-95f4-7d2b6f151810",
   "metadata": {},
   "source": [
    "#### ####\n",
    "---  \n",
    "*Not to be confused with programming  <a id=\"recursion_bottom\"> [function recursion](#recursion_top)</a>*"
   ]
  },
  {
   "cell_type": "code",
   "execution_count": null,
   "id": "dc654a12-e246-432b-833f-cc84c75e1934",
   "metadata": {},
   "outputs": [],
   "source": []
  },
  {
   "cell_type": "code",
   "execution_count": 15,
   "id": "2e3e3281-8ecf-46d2-a577-de4597ce501c",
   "metadata": {},
   "outputs": [
    {
     "data": {
      "image/png": "[encoded data removed]",
      "text/plain": [
       "<Figure size 432x288 with 1 Axes>"
      ]
     },
     "metadata": {
      "needs_background": "light"
     },
     "output_type": "display_data"
    }
   ],
   "source": [
    "f = lambda x: x+0.2*x*(1-x/400) # logistic recursion N(t+1)=f(N) with r=0.2 and k=400\n",
    "y = solve_recursion(f, t_final=50, y0=40)\n",
    "cobweb_plotter(f,y[:10],6, show=False, ab=(0,80))\n",
    "plt.annotate(f'$\\\\left(N\\\\left(0\\\\right),0\\\\right)$',xy=(y[0],plt.ylim()[0]+5))\n",
    "for i in range(6):\n",
    "    if i%2==0:\n",
    "        xy=(y[i//2],y[i//2+1])\n",
    "        xytext = xy[0]-18, xy[0]+9\n",
    "        plt.annotate(f'$N\\\\left({i//2}\\\\right),N\\\\left({i//2+1}\\\\right)$',xy,xytext)\n",
    "    else:\n",
    "        xy=(y[i//2+1],y[i//2+1])\n",
    "        xytext = xy[0]+2, xy[0]-2\n",
    "        plt.annotate(f'$N\\\\left({i//2+1}\\\\right),N\\\\left({i//2+1}\\\\right)$',xy, xytext)\n",
    "\n",
    "plt.xlim(0,90)\n",
    "plt.ylim(0,70)\n",
    "plt.legend(loc='lower right')\n",
    "fig=plt.gcf()\n",
    "#plt.savefig('../Tutorial 4/temp.png')\n",
    "plt.show()"
   ]
  },
  {
   "cell_type": "code",
   "execution_count": 16,
   "id": "d3886469-3c88-4959-b5e1-5eba1cf3609b",
   "metadata": {},
   "outputs": [
    {
     "data": {
      "text/plain": [
       "(88.30000891942775, 102.06156491572779)"
      ]
     },
     "execution_count": 16,
     "metadata": {},
     "output_type": "execute_result"
    }
   ],
   "source": [
    "(y[5],y[6])"
   ]
  },
  {
   "cell_type": "code",
   "execution_count": 42,
   "id": "62a88a11-48de-4f80-b120-144fad97ed6a",
   "metadata": {},
   "outputs": [
    {
     "data": {
      "image/png": "[encoded data removed]",
      "text/plain": [
       "<Figure size 432x288 with 1 Axes>"
      ]
     },
     "metadata": {
      "needs_background": "light"
     },
     "output_type": "display_data"
    }
   ],
   "source": [
    "f = lambda x: x+0.2*x*(1-x/400) # logistic recursion N(t+1)=f(N) with r=0.2 and k=400\n",
    "y = solve_recursion(f, t_final=10, y0=4)\n",
    "cobweb_plotter(f,y,6, show=False)\n",
    "a,b = plt.xlim()\n",
    "plot_scale = b-a\n",
    "plt.annotate(f'$\\\\left(N\\\\left(0\\\\right),0\\\\right)$',xy=(y[0],plt.ylim()[0]+0.01*plot_scale))\n",
    "for i in range(6):\n",
    "    if i%2==0:\n",
    "        xy=(y[i//2],y[i//2+1])\n",
    "        xytext = xy[0]-1.5, xy[1]+0.5\n",
    "        plt.annotate(f'$N\\\\left({i//2}\\\\right),N\\\\left({i//2+1}\\\\right)$',xy,xytext)\n",
    "    else:\n",
    "        xy=(y[i//2+1],y[i//2+1])\n",
    "        xytext = xy[0]+0.5, xy[1]\n",
    "        plt.annotate(f'$N\\\\left({i//2+1}\\\\right),N\\\\left({i//2+1}\\\\right)$',xy, xytext)\n",
    "\n",
    "#plt.xlim(0,90)\n",
    "#plt.ylim(0,70)\n",
    "plt.legend(loc='lower right')\n",
    "fig=plt.gcf()\n",
    "#plt.savefig('../Tutorial 4/temp7.png')\n",
    "plt.show()"
   ]
  },
  {
   "cell_type": "code",
   "execution_count": null,
   "id": "93e8b84e-8f9b-4979-8efb-43c8858df6c1",
   "metadata": {},
   "outputs": [],
   "source": []
  }
 ],
 "metadata": {
  "kernelspec": {
   "display_name": "Python 3 (ipykernel)",
   "language": "python",
   "name": "python3"
  },
  "language_info": {
   "codemirror_mode": {
    "name": "ipython",
    "version": 3
   },
   "file_extension": ".py",
   "mimetype": "text/x-python",
   "name": "python",
   "nbconvert_exporter": "python",
   "pygments_lexer": "ipython3",
   "version": "3.10.8"
  }
 },
 "nbformat": 4,
 "nbformat_minor": 5
}
